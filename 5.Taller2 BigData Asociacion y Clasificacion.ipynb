{
 "cells": [
  {
   "cell_type": "markdown",
   "id": "c5e806e6",
   "metadata": {},
   "source": [
    "se cargan las librerias necesarias y se inicia el stemmer nltk"
   ]
  },
  {
   "cell_type": "code",
   "execution_count": 1,
   "id": "66bedcaa",
   "metadata": {},
   "outputs": [
    {
     "name": "stderr",
     "output_type": "stream",
     "text": [
      "[nltk_data] Downloading package wordnet to\n",
      "[nltk_data]     C:\\Users\\rober\\AppData\\Roaming\\nltk_data...\n",
      "[nltk_data]   Package wordnet is already up-to-date!\n"
     ]
    },
    {
     "data": {
      "text/plain": [
       "True"
      ]
     },
     "execution_count": 1,
     "metadata": {},
     "output_type": "execute_result"
    }
   ],
   "source": [
    "import pandas as pd\n",
    "import re\n",
    "import gensim\n",
    "import numpy as np\n",
    "from gensim.utils import simple_preprocess\n",
    "from gensim.parsing.preprocessing import STOPWORDS\n",
    "from nltk.stem import WordNetLemmatizer, SnowballStemmer\n",
    "from nltk.stem.porter import *\n",
    "from nltk.stem import *\n",
    "import numpy as np\n",
    "np.random.seed(2018)\n",
    "import nltk\n",
    "import nltk.stem as stemmer\n",
    "stemmer = PorterStemmer()\n",
    "nltk.download('wordnet')"
   ]
  },
  {
   "cell_type": "markdown",
   "id": "7aa62ecd",
   "metadata": {},
   "source": [
    "se cargan los documentos generados del webscraping"
   ]
  },
  {
   "cell_type": "code",
   "execution_count": 2,
   "id": "3fded306",
   "metadata": {},
   "outputs": [],
   "source": [
    "File = pd.ExcelFile('DatosWoS2020.xlsx')\n",
    "df=File.parse('Sheet1')"
   ]
  },
  {
   "cell_type": "code",
   "execution_count": 3,
   "id": "ec1b85bb",
   "metadata": {},
   "outputs": [],
   "source": [
    "docktype = pd.read_csv('Docktypes.csv')\n",
    "docktype = docktype[\"tipo\"]"
   ]
  },
  {
   "cell_type": "markdown",
   "id": "bfdbcce9",
   "metadata": {},
   "source": [
    "se genera un dataframe de titulos"
   ]
  },
  {
   "cell_type": "code",
   "execution_count": 4,
   "id": "4e45c12f",
   "metadata": {},
   "outputs": [],
   "source": [
    "titles = df[\"Titulo\"]"
   ]
  },
  {
   "cell_type": "code",
   "execution_count": 5,
   "id": "631cf75b",
   "metadata": {},
   "outputs": [],
   "source": [
    "titles_list = titles.values.tolist()\n"
   ]
  },
  {
   "cell_type": "markdown",
   "id": "4ef01794",
   "metadata": {},
   "source": [
    "se limpian los titulos de datos basura y se genera una lista de indices y el dataframe fusion de ambos, es importante cambiar el termino movie por el que se esta trabajando"
   ]
  },
  {
   "cell_type": "code",
   "execution_count": 6,
   "id": "407a00a6",
   "metadata": {},
   "outputs": [],
   "source": [
    "for i in range(len(titles_list)):\n",
    "    titles_list[i] = str(titles_list[i])\n",
    "    titles_list[i] = re.sub(\"[!,*)@#%(&$_?.^:-]'\", '', titles_list[i])\n",
    "    titles_list[i] = titles_list[i].replace('\"','')\n",
    "    titles_list[i] = titles_list[i].replace(\"'\",\" \")\n",
    "    titles_list[i] = titles_list[i].lower()\n",
    "    titles_list[i] = titles_list[i].replace(\"movie\",\"\")\n"
   ]
  },
  {
   "cell_type": "code",
   "execution_count": 7,
   "id": "7c7c175c",
   "metadata": {},
   "outputs": [],
   "source": [
    "indexs = []\n",
    "for i in range(len(titles_list)):\n",
    "    indexs.append(i)"
   ]
  },
  {
   "cell_type": "code",
   "execution_count": 8,
   "id": "45756952",
   "metadata": {},
   "outputs": [],
   "source": [
    "df2 = pd.DataFrame(list(zip(titles_list, indexs)),\n",
    "               columns =['Titulo', 'index'])"
   ]
  },
  {
   "cell_type": "markdown",
   "id": "e2f7c907",
   "metadata": {},
   "source": [
    "se tockeniza el cada titulo sin la palabra topic"
   ]
  },
  {
   "cell_type": "code",
   "execution_count": 9,
   "id": "e20fc9e7",
   "metadata": {},
   "outputs": [],
   "source": [
    "def lemmatize_stemming(text):\n",
    "    return stemmer.stem(WordNetLemmatizer().lemmatize(text, pos='v'))\n",
    "def preprocess(text):\n",
    "    result = []\n",
    "    for token in gensim.utils.simple_preprocess(text):\n",
    "        if token not in gensim.parsing.preprocessing.STOPWORDS and len(token) > 3:\n",
    "            result.append(lemmatize_stemming(token))\n",
    "    return result"
   ]
  },
  {
   "cell_type": "code",
   "execution_count": 10,
   "id": "b8d7340c",
   "metadata": {},
   "outputs": [
    {
     "name": "stdout",
     "output_type": "stream",
     "text": [
      "original document: \n",
      "['', 'recommendation', 'system', 'based', 'on', '', 'swarm']\n",
      "\n",
      "\n",
      " tokenized and lemmatized document: \n",
      "['recommend', 'base', 'swarm']\n"
     ]
    }
   ],
   "source": [
    "documents = df2\n",
    "doc_sample = documents[documents['index'] == 0].values[0][0]\n",
    "print('original document: ')\n",
    "words = []\n",
    "for word in doc_sample.split(' '):\n",
    "    words.append(word)\n",
    "print(words)\n",
    "print('\\n\\n tokenized and lemmatized document: ')\n",
    "print(preprocess(doc_sample))"
   ]
  },
  {
   "cell_type": "code",
   "execution_count": 11,
   "id": "5e9d6a8e",
   "metadata": {},
   "outputs": [
    {
     "data": {
      "text/plain": [
       "0                           [recommend, base, swarm]\n",
       "1    [dynam, effect, rat, revenu, viewer, satisfact]\n",
       "2                                         [descript]\n",
       "3                     [success, predict, data, mine]\n",
       "4                                                 []\n",
       "5                [exploit, charact, network, summar]\n",
       "6     [tradit, cultur, chines, case, shoot, huizhou]\n",
       "7                    [feng, xiaogang, economi, oper]\n",
       "8                [summar, charact, network, analysi]\n",
       "9    [attribut, trailer, constitut, purchas, intent]\n",
       "Name: Titulo, dtype: object"
      ]
     },
     "execution_count": 11,
     "metadata": {},
     "output_type": "execute_result"
    }
   ],
   "source": [
    "processed_docs = documents['Titulo'].map(preprocess)\n",
    "processed_docs[:10]"
   ]
  },
  {
   "cell_type": "markdown",
   "id": "cc7ee9dc",
   "metadata": {},
   "source": [
    "se genera un diccionario con las palabras tockenizadas que no pertenezcan a conectores "
   ]
  },
  {
   "cell_type": "code",
   "execution_count": 12,
   "id": "d2c40701",
   "metadata": {},
   "outputs": [
    {
     "name": "stdout",
     "output_type": "stream",
     "text": [
      "0 base\n",
      "1 recommend\n",
      "2 swarm\n",
      "3 dynam\n",
      "4 effect\n",
      "5 rat\n",
      "6 revenu\n",
      "7 satisfact\n",
      "8 viewer\n",
      "9 descript\n",
      "10 data\n"
     ]
    }
   ],
   "source": [
    "dictionary = gensim.corpora.Dictionary(processed_docs)\n",
    "count = 0\n",
    "for k, v in dictionary.iteritems():\n",
    "    print(k, v)\n",
    "    count += 1\n",
    "    if count > 10:\n",
    "        break"
   ]
  },
  {
   "cell_type": "markdown",
   "id": "50fdb367",
   "metadata": {},
   "source": [
    "se preparan variables auxiliares y variables que incluyen el topic para la construccion del excel"
   ]
  },
  {
   "cell_type": "code",
   "execution_count": 13,
   "id": "a54590ad",
   "metadata": {},
   "outputs": [
    {
     "name": "stdout",
     "output_type": "stream",
     "text": [
      "250\n",
      "632\n"
     ]
    }
   ],
   "source": [
    "a = len(processed_docs)\n",
    "b = len(dictionary)+1\n",
    "print(a)\n",
    "print(b)"
   ]
  },
  {
   "cell_type": "code",
   "execution_count": 14,
   "id": "d538f693",
   "metadata": {},
   "outputs": [],
   "source": [
    "newtitles_list = titles.values.tolist()\n",
    "for i in range(len(newtitles_list)):\n",
    "    newtitles_list[i] = str(newtitles_list[i])\n",
    "    newtitles_list[i] = re.sub(\"[!,*)@#%(&$_?.^:-]'\", '', newtitles_list[i])\n",
    "    newtitles_list[i] = newtitles_list[i].replace('\"','')\n",
    "    newtitles_list[i] = newtitles_list[i].replace(\"'\",\"\")\n",
    "    newtitles_list[i] = newtitles_list[i].lower()"
   ]
  },
  {
   "cell_type": "code",
   "execution_count": 15,
   "id": "47f3c465",
   "metadata": {},
   "outputs": [],
   "source": [
    "newindexs = []\n",
    "for i in range(len(newtitles_list)):\n",
    "    newindexs.append(i)"
   ]
  },
  {
   "cell_type": "code",
   "execution_count": 16,
   "id": "ccd93026",
   "metadata": {},
   "outputs": [],
   "source": [
    "newdf2 = pd.DataFrame(list(zip(newtitles_list, newindexs)),\n",
    "               columns =['Titulo', 'index'])"
   ]
  },
  {
   "cell_type": "code",
   "execution_count": 17,
   "id": "313c4a5a",
   "metadata": {},
   "outputs": [
    {
     "name": "stdout",
     "output_type": "stream",
     "text": [
      "original document: \n",
      "['movie', 'recommendation', 'system', 'based', 'on', 'movie', 'swarm']\n",
      "\n",
      "\n",
      " tokenized and lemmatized document: \n",
      "['movi', 'recommend', 'base', 'movi', 'swarm']\n"
     ]
    }
   ],
   "source": [
    "newdocuments = newdf2\n",
    "newdoc_sample = newdocuments[newdocuments['index'] == 0].values[0][0]\n",
    "print('original document: ')\n",
    "newwords = []\n",
    "for newword in newdoc_sample.split(' '):\n",
    "    newwords.append(newword)\n",
    "print(newwords)\n",
    "print('\\n\\n tokenized and lemmatized document: ')\n",
    "print(preprocess(newdoc_sample))"
   ]
  },
  {
   "cell_type": "code",
   "execution_count": 18,
   "id": "b7226ca5",
   "metadata": {},
   "outputs": [],
   "source": [
    "newlist_titles_processed = []\n",
    "newprocessed_docs = documents['Titulo'].map(preprocess)\n",
    "newprocessed_docs[:10]\n",
    "for i in range(len(newprocessed_docs)):\n",
    "    newlist_titles_processed.append(' '.join(newprocessed_docs[i]))"
   ]
  },
  {
   "cell_type": "markdown",
   "id": "3f6201c8",
   "metadata": {},
   "source": [
    "se genera una lista vacia y se agregan los titulos"
   ]
  },
  {
   "cell_type": "code",
   "execution_count": 19,
   "id": "38a9aadd",
   "metadata": {},
   "outputs": [],
   "source": [
    "datarray = []\n",
    "for i in range(a):\n",
    "    datarray_slice = []\n",
    "    for j in range(b):\n",
    "        if  j == 0:\n",
    "            datarray_slice.append(newtitles_list[i])\n",
    "        else:\n",
    "            datarray_slice.append(\"0\")\n",
    "    datarray.append(datarray_slice)"
   ]
  },
  {
   "cell_type": "markdown",
   "id": "d9dae4ef",
   "metadata": {},
   "source": [
    "se agrega un 1 cada vez que se encuentre una coincidencia con las palabras que hay en el texto"
   ]
  },
  {
   "cell_type": "code",
   "execution_count": 20,
   "id": "63eb05c1",
   "metadata": {},
   "outputs": [],
   "source": [
    "for i in range(a):\n",
    "    for j in range(1,b):\n",
    "        for k in range(len(newprocessed_docs[i])):\n",
    "            if dictionary[j-1]  == newprocessed_docs[i][k]:\n",
    "                datarray[i][j] = \"1\""
   ]
  },
  {
   "cell_type": "markdown",
   "id": "b26101f9",
   "metadata": {},
   "source": [
    "se cuentan cuantas veces aparece cada dayo y se juntan con la palabra en una lista de frecuencias"
   ]
  },
  {
   "cell_type": "code",
   "execution_count": 21,
   "id": "67f8ab31",
   "metadata": {},
   "outputs": [],
   "source": [
    "frcount = []\n",
    "for i in range(1,len(dictionary)+1):\n",
    "    count = 0\n",
    "    for j in range(len(datarray)):\n",
    "        count = count + int(datarray[j][i])\n",
    "    namecount = [dictionary[i-1],count]\n",
    "    frcount.append(namecount)"
   ]
  },
  {
   "cell_type": "markdown",
   "id": "1b2dbadd",
   "metadata": {},
   "source": [
    "se ordena la lista en base al numero de repeticiones y se guardan los 15 mayores"
   ]
  },
  {
   "cell_type": "code",
   "execution_count": 22,
   "id": "32b4905f",
   "metadata": {},
   "outputs": [
    {
     "name": "stdout",
     "output_type": "stream",
     "text": [
      "[['base', 37], ['recommend', 31], ['analysi', 23], ['predict', 19], ['learn', 18], ['effect', 12], ['rat', 12], ['trailer', 12], ['genr', 12], ['success', 11], ['model', 11], ['network', 9], ['visual', 9], ['review', 9], ['content', 9]]\n"
     ]
    }
   ],
   "source": [
    "sorted_frcount = sorted(frcount, key=lambda x: x[1], reverse=True)\n",
    "quince_mayores = []\n",
    "for i in range(15):\n",
    "    quince_mayores.append(sorted_frcount[i])\n",
    "print(quince_mayores)"
   ]
  },
  {
   "cell_type": "markdown",
   "id": "3565d2ba",
   "metadata": {},
   "source": [
    "se genera una lista con los titulos en los cuales coinciden los datos"
   ]
  },
  {
   "cell_type": "code",
   "execution_count": 23,
   "id": "761c0deb",
   "metadata": {},
   "outputs": [
    {
     "name": "stdout",
     "output_type": "stream",
     "text": [
      "la frase base aparece en  recommendation system based on  swarm\n",
      "la frase recommend aparece en  recommendation system based on  swarm\n",
      "la frase effect aparece en dynamic effects among  ratings,  revenues, and viewer satisfaction\n",
      "la frase rat aparece en dynamic effects among  ratings,  revenues, and viewer satisfaction\n",
      "la frase predict aparece en  success prediction using data mining\n",
      "la frase success aparece en  success prediction using data mining\n",
      "la frase network aparece en exploiting character networks for  summarization\n",
      "la frase analysi aparece en  summarization using characters network analysis\n",
      "la frase network aparece en  summarization using characters network analysis\n",
      "la frase trailer aparece en attributes in a  trailer that constitutes purchase intention\n",
      "la frase effect aparece en the effects of  awards on  success: a replication using golden globe data\n",
      "la frase success aparece en the effects of  awards on  success: a replication using golden globe data\n",
      "la frase recommend aparece en swarm: information mining technique for  recommendation system\n",
      "la frase base aparece en a multimedia based  style model\n",
      "la frase model aparece en a multimedia based  style model\n",
      "la frase trailer aparece en hypotheses of relationships between elements in  trailers with purchase intention of  tickets\n",
      "la frase visual aparece en visual  analytics\n",
      "la frase analysi aparece en analysis of video-s using support vector regression\n",
      "la frase effect aparece en the effect of positive and negative  alcohol portrayals on transportation and attitude toward the \n",
      "la frase genr aparece en  genre preference and culture\n",
      "la frase effect aparece en uncovering the effects of digital  format availability on physical  sales\n",
      "la frase success aparece en the impact of  titles on box office success\n",
      "la frase predict aparece en  success prediction using ml\n",
      "la frase success aparece en  success prediction using ml\n",
      "la frase analysi aparece en sentiment analysis on  reviews\n",
      "la frase review aparece en sentiment analysis on  reviews\n",
      "la frase review aparece en do expert reviews affect the decision to see motion pictures in  theatres? an experimental approach\n",
      "la frase learn aparece en learning about s: the impact of  release types on the nationwide box office\n",
      "la frase recommend aparece en an algorithm for  classification and recommendation using genre correlation\n",
      "la frase genr aparece en an algorithm for  classification and recommendation using genre correlation\n",
      "la frase base aparece en a machine learning based  status evaluation system for bangladesh s\n",
      "la frase learn aparece en a machine learning based  status evaluation system for bangladesh s\n",
      "la frase base aparece en  retrieval based on shazam algorithm\n",
      "la frase base aparece en  trailer analysis based on editing features of s\n",
      "la frase analysi aparece en  trailer analysis based on editing features of s\n",
      "la frase trailer aparece en  trailer analysis based on editing features of s\n",
      "la frase base aparece en accessing s based on emotional impact\n",
      "la frase base aparece en genre specific aspect based sentiment analysis of  reviews\n",
      "la frase analysi aparece en genre specific aspect based sentiment analysis of  reviews\n",
      "la frase genr aparece en genre specific aspect based sentiment analysis of  reviews\n",
      "la frase review aparece en genre specific aspect based sentiment analysis of  reviews\n",
      "la frase analysi aparece en analysis of accordion application in  art\n",
      "la frase learn aparece en madness at the s: prioritised s for self-directed learning by medical students\n",
      "la frase rat aparece en a novel method to measure the reliability of the bollywood  rating system\n",
      "la frase base aparece en  rating system based on blockchain\n",
      "la frase rat aparece en  rating system based on blockchain\n",
      "la frase effect aparece en the effectiveness of  trailer advertising\n",
      "la frase trailer aparece en the effectiveness of  trailer advertising\n",
      "la frase base aparece en smoking portrayal in ethiopian s: a theory-based content analysis\n",
      "la frase analysi aparece en smoking portrayal in ethiopian s: a theory-based content analysis\n",
      "la frase content aparece en smoking portrayal in ethiopian s: a theory-based content analysis\n",
      "la frase genr aparece en a multimodal approach for multi-label  genre classification\n",
      "la frase base aparece en movrec: a personalized  recommendation system for children based on online  features\n",
      "la frase recommend aparece en movrec: a personalized  recommendation system for children based on online  features\n",
      "la frase predict aparece en role of different factors in predicting  success\n",
      "la frase success aparece en role of different factors in predicting  success\n",
      "la frase base aparece en  popularity classification based on inherent  attributes using c4.5, part and correlation coefficient\n",
      "la frase review aparece en exploiting user reviews for automatic  tagging\n",
      "la frase recommend aparece en  recommendation via blstm\n",
      "la frase predict aparece en multi-model or single-model? a study of  box-office revenue prediction\n",
      "la frase model aparece en multi-model or single-model? a study of  box-office revenue prediction\n",
      "la frase model aparece en multi-model or single-model? a study of  box-office revenue prediction\n",
      "la frase base aparece en personal information prediction based on  rating data\n",
      "la frase predict aparece en personal information prediction based on  rating data\n",
      "la frase rat aparece en personal information prediction based on  rating data\n",
      "la frase recommend aparece en the role of user mood in  recommendations\n",
      "la frase analysi aparece en a unified audio analysis framework for  genre classification using  trailers\n",
      "la frase trailer aparece en a unified audio analysis framework for  genre classification using  trailers\n",
      "la frase genr aparece en a unified audio analysis framework for  genre classification using  trailers\n",
      "la frase genr aparece en genre fraction detection of a  using text mining\n",
      "la frase predict aparece en estimating audience engagement to predict  ratings\n",
      "la frase rat aparece en estimating audience engagement to predict  ratings\n",
      "la frase success aparece en innovation in social media strategy for  success a study of the bollywood  industry\n",
      "la frase base aparece en prediction of  playback based on ordinal support vector machine classification\n",
      "la frase predict aparece en prediction of  playback based on ordinal support vector machine classification\n",
      "la frase base aparece en  recommendation based on bridging  feature and user interest\n",
      "la frase recommend aparece en  recommendation based on bridging  feature and user interest\n",
      "la frase recommend aparece en  recommendations using the deep learning approach\n",
      "la frase learn aparece en  recommendations using the deep learning approach\n",
      "la frase predict aparece en predicting bollywood s success using machine learning technique\n",
      "la frase learn aparece en predicting bollywood s success using machine learning technique\n",
      "la frase success aparece en predicting bollywood s success using machine learning technique\n",
      "la frase review aparece en violent frames: analyzing internet  database reviewers  text descriptions of media violence and gender differences from 39 years of us action, thriller, crime, and adventure s\n",
      "la frase recommend aparece en a new method of measuring document similarity for  recommendation\n",
      "la frase predict aparece en predicting hit  concepts using news articles\n",
      "la frase recommend aparece en  recommender systems made through tag interpolation\n",
      "la frase base aparece en corpus-based teaching in college  english class in china\n",
      "la frase recommend aparece en the foreign language effect and  recommendation: a comparative study of sentiment analysis of  reviews in chinese and english\n",
      "la frase analysi aparece en the foreign language effect and  recommendation: a comparative study of sentiment analysis of  reviews in chinese and english\n",
      "la frase effect aparece en the foreign language effect and  recommendation: a comparative study of sentiment analysis of  reviews in chinese and english\n",
      "la frase review aparece en the foreign language effect and  recommendation: a comparative study of sentiment analysis of  reviews in chinese and english\n",
      "la frase base aparece en research on distance education media based on  and television courseware\n",
      "la frase effect aparece en  plus : towards exploring social effects of emotional fingerprints for video clips and s\n",
      "la frase predict aparece en popularity prediction of s: from statistical modeling to machine learning techniques\n",
      "la frase learn aparece en popularity prediction of s: from statistical modeling to machine learning techniques\n",
      "la frase model aparece en popularity prediction of s: from statistical modeling to machine learning techniques\n",
      "la frase visual aparece en audio-visual synchronisation in quantum s\n",
      "la frase base aparece en extraction of  trailer biases based on editing features for trailer generation\n",
      "la frase trailer aparece en extraction of  trailer biases based on editing features for trailer generation\n",
      "la frase trailer aparece en extraction of  trailer biases based on editing features for trailer generation\n",
      "la frase learn aparece en scientific s as open learning tool in physics\n",
      "la frase model aparece en two-way affective modeling for hidden  highlights  extraction\n",
      "la frase analysi aparece en analysis of revenue maximization under two -screening policies\n",
      "la frase predict aparece en research on  rating prediction algorithms\n",
      "la frase rat aparece en research on  rating prediction algorithms\n",
      "la frase base aparece en scene-based  summarization via role-community networks\n",
      "la frase network aparece en scene-based  summarization via role-community networks\n",
      "la frase analysi aparece en analysis of english teaching through english  appreciation\n",
      "la frase analysi aparece en window of imagination an analysis of graphic montage language in  posters\n",
      "la frase predict aparece en  success prediction using machine learning algorithms and their comparison\n",
      "la frase learn aparece en  success prediction using machine learning algorithms and their comparison\n",
      "la frase success aparece en  success prediction using machine learning algorithms and their comparison\n",
      "la frase recommend aparece en exploiting aesthetic features in visual contents for  recommendation\n",
      "la frase visual aparece en exploiting aesthetic features in visual contents for  recommendation\n",
      "la frase content aparece en exploiting aesthetic features in visual contents for  recommendation\n",
      "la frase analysi aparece en automatic analysis of s for content characterization\n",
      "la frase content aparece en automatic analysis of s for content characterization\n",
      "la frase base aparece en froy: exploring sentiment-based  recommendations\n",
      "la frase recommend aparece en froy: exploring sentiment-based  recommendations\n",
      "la frase analysi aparece en  title keywords: a text mining and exploratory factor analysis of popular s in the united states and china\n",
      "la frase recommend aparece en a connotative space for supporting  affective recommendation\n",
      "la frase base aparece en an implicit information based  recommendation strategy\n",
      "la frase recommend aparece en an implicit information based  recommendation strategy\n",
      "la frase learn aparece en embedded learning for computerized production of  trailers\n",
      "la frase trailer aparece en embedded learning for computerized production of  trailers\n",
      "la frase trailer aparece en the use of tobacco in online trailers of top grossing s\n",
      "la frase base aparece en  summarization based on alignment of plot and shots\n",
      "la frase base aparece en gaussian mixture model based prediction method of  rating\n",
      "la frase predict aparece en gaussian mixture model based prediction method of  rating\n",
      "la frase rat aparece en gaussian mixture model based prediction method of  rating\n",
      "la frase model aparece en gaussian mixture model based prediction method of  rating\n",
      "la frase base aparece en dominant sets based  scene detection\n",
      "la frase review aparece en podcasting  reviews in spanish: student perceptions\n",
      "la frase recommend aparece en  recommendation system using clustering and pattern recognition network\n",
      "la frase network aparece en  recommendation system using clustering and pattern recognition network\n",
      "la frase analysi aparece en shot scale analysis in s by convolutional neural networks\n",
      "la frase network aparece en shot scale analysis in s by convolutional neural networks\n",
      "la frase base aparece en connotative features based affective  recommendation system\n",
      "la frase recommend aparece en connotative features based affective  recommendation system\n",
      "la frase analysi aparece en the analysis of chinese elements in hollywood s s\n",
      "la frase visual aparece en visual discomfort while watching stereoscopic three-dimensional s at the cinema\n",
      "la frase predict aparece en  rating prediction using ensemble learning and mixed type attributes\n",
      "la frase learn aparece en  rating prediction using ensemble learning and mixed type attributes\n",
      "la frase rat aparece en  rating prediction using ensemble learning and mixed type attributes\n",
      "la frase analysi aparece en an analysis of chinese images in american s since 1990s\n",
      "la frase base aparece en a content-based  recommender system based on temporal user preferences\n",
      "la frase recommend aparece en a content-based  recommender system based on temporal user preferences\n",
      "la frase content aparece en a content-based  recommender system based on temporal user preferences\n",
      "la frase recommend aparece en dmcm: a deep multi-channel model for dynamic  recommendation\n",
      "la frase model aparece en dmcm: a deep multi-channel model for dynamic  recommendation\n",
      "la frase trailer aparece en the differential success of  trailers\n",
      "la frase success aparece en the differential success of  trailers\n",
      "la frase base aparece en subtitles for  commercial trailers: a technology-based translation\n",
      "la frase trailer aparece en subtitles for  commercial trailers: a technology-based translation\n",
      "la frase trailer aparece en smart trailer : automatic generation of  trailer using only subtitles\n",
      "la frase base aparece en in-situ visualization with membrane layer for -based visualization\n",
      "la frase visual aparece en in-situ visualization with membrane layer for -based visualization\n",
      "la frase visual aparece en in-situ visualization with membrane layer for -based visualization\n",
      "la frase genr aparece en the speech genre of the  announcement (on the material of  announcements of indian films)\n",
      "la frase genr aparece en  genres classification using collaborative filtering\n",
      "la frase base aparece en personalized  recommendation based on social tagging systems\n",
      "la frase recommend aparece en personalized  recommendation based on social tagging systems\n",
      "la frase effect aparece en science information in fictional s: effects of context and gender\n",
      "la frase analysi aparece en the effects of  piracy on box-office revenue: an empirical analysis of the chinese  market\n",
      "la frase effect aparece en the effects of  piracy on box-office revenue: an empirical analysis of the chinese  market\n",
      "la frase model aparece en net: a  multilayer network model using visual and textual semantic cues\n",
      "la frase network aparece en net: a  multilayer network model using visual and textual semantic cues\n",
      "la frase visual aparece en net: a  multilayer network model using visual and textual semantic cues\n",
      "la frase learn aparece en how words matter: machine learning &  success\n",
      "la frase success aparece en how words matter: machine learning &  success\n",
      "la frase predict aparece en  rating prediction using ensemble learning algorithms\n",
      "la frase learn aparece en  rating prediction using ensemble learning algorithms\n",
      "la frase rat aparece en  rating prediction using ensemble learning algorithms\n",
      "la frase visual aparece en visual sentiment summarization of  reviews\n",
      "la frase review aparece en visual sentiment summarization of  reviews\n",
      "la frase base aparece en  genome recommender: a novel recommender system based on multimedia content\n",
      "la frase recommend aparece en  genome recommender: a novel recommender system based on multimedia content\n",
      "la frase recommend aparece en  genome recommender: a novel recommender system based on multimedia content\n",
      "la frase content aparece en  genome recommender: a novel recommender system based on multimedia content\n",
      "la frase genr aparece en  genre classification from plot summaries using bidirectional lstm\n",
      "la frase predict aparece en  tags prediction and segmentation using deep learning\n",
      "la frase learn aparece en  tags prediction and segmentation using deep learning\n",
      "la frase learn aparece en learning history through historical s: bringing living history into classroom\n",
      "la frase review aparece en review of the  la partita\n",
      "la frase base aparece en content-based  recommendation using different feature sets\n",
      "la frase recommend aparece en content-based  recommendation using different feature sets\n",
      "la frase content aparece en content-based  recommendation using different feature sets\n",
      "la frase recommend aparece en social-aware  recommendation via multimodal network learning\n",
      "la frase learn aparece en social-aware  recommendation via multimodal network learning\n",
      "la frase network aparece en social-aware  recommendation via multimodal network learning\n",
      "la frase genr aparece en  genre filtering for automated parental control\n",
      "la frase base aparece en a group recommender for s based on content similarity and popularity\n",
      "la frase recommend aparece en a group recommender for s based on content similarity and popularity\n",
      "la frase content aparece en a group recommender for s based on content similarity and popularity\n",
      "la frase base aparece en personalized  hybrid recommendation model based on gru\n",
      "la frase recommend aparece en personalized  hybrid recommendation model based on gru\n",
      "la frase model aparece en personalized  hybrid recommendation model based on gru\n",
      "la frase predict aparece en predicting imdb rating of s by machine learning techniques\n",
      "la frase learn aparece en predicting imdb rating of s by machine learning techniques\n",
      "la frase rat aparece en predicting imdb rating of s by machine learning techniques\n",
      "la frase effect aparece en effectiveness of teaching with s to promote positive characteristics and behaviors\n",
      "la frase analysi aparece en narrative analysis for hypergraph ontology of s using plot units\n",
      "la frase effect aparece en effect of  clips on human brain\n",
      "la frase recommend aparece en a neural engine for  recommendation system\n",
      "la frase base aparece en a novel s recommendation algorithm based on reinforcement learning with ddpg policy\n",
      "la frase recommend aparece en a novel s recommendation algorithm based on reinforcement learning with ddpg policy\n",
      "la frase learn aparece en a novel s recommendation algorithm based on reinforcement learning with ddpg policy\n",
      "la frase analysi aparece en analysis on the visual black humor aesthetics in s-zombie series s directed by zhengying lin are taken for example\n",
      "la frase visual aparece en analysis on the visual black humor aesthetics in s-zombie series s directed by zhengying lin are taken for example\n",
      "la frase rat aparece en injury-prevention practices as depicted in g- and pg-rated s, 2003-2007\n",
      "la frase recommend aparece en jumrv1: a sentiment analysis dataset for  recommendation\n",
      "la frase analysi aparece en jumrv1: a sentiment analysis dataset for  recommendation\n",
      "la frase base aparece en user tweets based genre prediction and  recommendation using lsi and svd\n",
      "la frase recommend aparece en user tweets based genre prediction and  recommendation using lsi and svd\n",
      "la frase predict aparece en user tweets based genre prediction and  recommendation using lsi and svd\n",
      "la frase genr aparece en user tweets based genre prediction and  recommendation using lsi and svd\n",
      "la frase predict aparece en predicting  box-office revenues using deep neural networks\n",
      "la frase network aparece en predicting  box-office revenues using deep neural networks\n",
      "la frase base aparece en content-based  recommending using a triple wing harmonium model\n",
      "la frase recommend aparece en content-based  recommending using a triple wing harmonium model\n",
      "la frase model aparece en content-based  recommending using a triple wing harmonium model\n",
      "la frase content aparece en content-based  recommending using a triple wing harmonium model\n",
      "la frase recommend aparece en an improved approach for  recommendation system\n",
      "la frase effect aparece en effects of alcohol portrayals in s on actual alcohol consumption: an observational experimental study\n",
      "la frase success aparece en conquering the box office: factors influencing success of international s in russia\n",
      "la frase analysi aparece en could the  be cute? understanding the user-generated word-of-mouth by implementing text mining analysis on the  market\n",
      "la frase analysi aparece en does a home market model explain the korea-us  trade?: an empirical analysis and media policy implications\n",
      "la frase model aparece en does a home market model explain the korea-us  trade?: an empirical analysis and media policy implications\n",
      "la frase model aparece en modelling  attendance with seasonality: evidence from china\n",
      "la frase trailer aparece en genre classification of  trailers using 3d convolutional neural networks\n",
      "la frase genr aparece en genre classification of  trailers using 3d convolutional neural networks\n",
      "la frase network aparece en genre classification of  trailers using 3d convolutional neural networks\n",
      "la frase base aparece en enhanced  content similarity based on textual, auditory and visual information\n",
      "la frase visual aparece en enhanced  content similarity based on textual, auditory and visual information\n",
      "la frase content aparece en enhanced  content similarity based on textual, auditory and visual information\n",
      "la frase base aparece en  based context-aware language learning: its concept and system\n",
      "la frase learn aparece en  based context-aware language learning: its concept and system\n",
      "la frase rat aparece en pg-13 rated  violence and societal violence: is there a link?\n"
     ]
    }
   ],
   "source": [
    "coincidence_list = []\n",
    "procecced_coincidece_list = []\n",
    "for i in range(len(newtitles_list)):\n",
    "    for j in range(len(quince_mayores)):\n",
    "        for k in range(len(newprocessed_docs[i])):\n",
    "            if quince_mayores[j][0] == newprocessed_docs[i][k]:\n",
    "                print(\"la frase \" + quince_mayores[j][0] + \" aparece en \" + titles_list[i])\n",
    "                if (titles_list[i] in coincidence_list) == False:\n",
    "                    coincidence_list.append(titles_list[i])\n",
    "                    procecced_coincidece_list.append(newprocessed_docs[i])\n",
    "                    break"
   ]
  },
  {
   "cell_type": "markdown",
   "id": "da29665a",
   "metadata": {},
   "source": [
    "se arma la lista de los titulos y 15 ceros en una lista"
   ]
  },
  {
   "cell_type": "code",
   "execution_count": 24,
   "id": "e6873c3d",
   "metadata": {},
   "outputs": [],
   "source": [
    "datacoincidence = []\n",
    "for i in range(len(coincidence_list)):\n",
    "    datacoincidence_slice = []\n",
    "    for j in range(len(quince_mayores)+1):\n",
    "        if  j == 0:\n",
    "            datacoincidence_slice.append(newtitles_list[i])\n",
    "        else:\n",
    "            datacoincidence_slice.append(\"0\")\n",
    "    datacoincidence.append(datacoincidence_slice)"
   ]
  },
  {
   "cell_type": "markdown",
   "id": "24d4f6b4",
   "metadata": {},
   "source": [
    "se ordena la lista y se suma 1 al valor correspondiente a la lista por cada vez que aparece la palabra de las 15 mayores en el titulo"
   ]
  },
  {
   "cell_type": "code",
   "execution_count": 25,
   "id": "56e9aaed",
   "metadata": {},
   "outputs": [],
   "source": [
    "for i in range(len(coincidence_list)):\n",
    "    for j in range(1,len(quince_mayores)+1):\n",
    "\n",
    "        for k in range(len(procecced_coincidece_list[i])):\n",
    "            if quince_mayores[j-1][0]  == procecced_coincidece_list[i][k]:\n",
    "                datacoincidence[i][j] = str(int(datacoincidence[i][j]) + 1)"
   ]
  },
  {
   "cell_type": "code",
   "execution_count": 26,
   "id": "2f0f779c",
   "metadata": {
    "scrolled": true
   },
   "outputs": [
    {
     "name": "stdout",
     "output_type": "stream",
     "text": [
      "['movie recommendation system based on movie swarm', '1', '1', '0', '0', '0', '0', '0', '0', '0', '0', '0', '0', '0', '0', '0']\n"
     ]
    }
   ],
   "source": [
    "print(datacoincidence[0])"
   ]
  },
  {
   "cell_type": "markdown",
   "id": "301ce2a2",
   "metadata": {},
   "source": [
    "se generan un dataframe de citaciones y referencias"
   ]
  },
  {
   "cell_type": "code",
   "execution_count": 27,
   "id": "9e7e5b66",
   "metadata": {},
   "outputs": [],
   "source": [
    "citations = df[\"Citas\"]"
   ]
  },
  {
   "cell_type": "code",
   "execution_count": 28,
   "id": "918e1d3d",
   "metadata": {},
   "outputs": [],
   "source": [
    "references = df[\"referencias\"]"
   ]
  },
  {
   "cell_type": "markdown",
   "id": "2bca5b6e",
   "metadata": {},
   "source": [
    "se une a la lista las citas,referencias, y el tipo de texto"
   ]
  },
  {
   "cell_type": "code",
   "execution_count": 29,
   "id": "523983b2",
   "metadata": {},
   "outputs": [],
   "source": [
    "for i in range(len(coincidence_list)):\n",
    "    for j in range(len(titles_list)):\n",
    "        if coincidence_list[i] == titles_list[j]:\n",
    "            datacoincidence[i].append(citations[j])\n",
    "            datacoincidence[i].append(references[j])\n",
    "            datacoincidence[i].append(docktype[j])"
   ]
  },
  {
   "cell_type": "code",
   "execution_count": 30,
   "id": "389e7856",
   "metadata": {},
   "outputs": [
    {
     "name": "stdout",
     "output_type": "stream",
     "text": [
      "['dynamic effects among movie ratings, movie revenues, and viewer satisfaction', '0', '0', '0', '0', '0', '1', '1', '0', '0', '0', '0', '0', '0', '0', '0', '192', 57, 'Article']\n"
     ]
    }
   ],
   "source": [
    "print(datacoincidence[1])"
   ]
  },
  {
   "cell_type": "markdown",
   "id": "b9c901b6",
   "metadata": {},
   "source": [
    "se escribe el texto en un excel y en un csv para su posterior analisis"
   ]
  },
  {
   "cell_type": "code",
   "execution_count": 31,
   "id": "95c2b90b",
   "metadata": {},
   "outputs": [],
   "source": [
    "import xlsxwriter\n",
    "encabezados = []\n",
    "doctypes = docktype.values.tolist()\n",
    "for i in range(len(quince_mayores)):\n",
    "    encabezados.append(quince_mayores[i][0])\n",
    "encabezados.insert(0,\"titulos\")\n",
    "encabezados.append(\"citas\")\n",
    "encabezados.append(\"referencias\")\n",
    "encabezados.append(\"clase\")\n",
    "encabezados = [encabezados]\n",
    "\n",
    "datacoincidence = encabezados + datacoincidence\n",
    "workbook = xlsxwriter.Workbook('quincepalabras.xlsx')\n",
    "worksheet = workbook.add_worksheet()\n",
    "array = datacoincidence\n",
    "row = 0\n",
    "\n",
    "for col, data in enumerate(array):\n",
    "    worksheet.write_row(col, row, data)\n",
    "\n",
    "workbook.close()"
   ]
  },
  {
   "cell_type": "code",
   "execution_count": 32,
   "id": "d4f7bfa0",
   "metadata": {},
   "outputs": [],
   "source": [
    "df3 = pd.DataFrame(datacoincidence,columns=encabezados)\n",
    "df3 = df3.iloc[1: , :]\n",
    "df3.to_csv('CsvQuinceMejores.csv',index=False)"
   ]
  },
  {
   "cell_type": "code",
   "execution_count": null,
   "id": "408d5604",
   "metadata": {},
   "outputs": [],
   "source": []
  }
 ],
 "metadata": {
  "kernelspec": {
   "display_name": "Python 3 (ipykernel)",
   "language": "python",
   "name": "python3"
  },
  "language_info": {
   "codemirror_mode": {
    "name": "ipython",
    "version": 3
   },
   "file_extension": ".py",
   "mimetype": "text/x-python",
   "name": "python",
   "nbconvert_exporter": "python",
   "pygments_lexer": "ipython3",
   "version": "3.9.7"
  }
 },
 "nbformat": 4,
 "nbformat_minor": 5
}

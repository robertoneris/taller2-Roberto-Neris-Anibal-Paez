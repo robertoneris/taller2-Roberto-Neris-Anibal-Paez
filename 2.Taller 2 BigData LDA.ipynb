{
 "cells": [
  {
   "cell_type": "markdown",
   "id": "c8fbab46",
   "metadata": {},
   "source": [
    "se instalan y cargan las librerias necesarias"
   ]
  },
  {
   "cell_type": "code",
   "execution_count": 1,
   "id": "c0e12b1f",
   "metadata": {},
   "outputs": [
    {
     "name": "stdout",
     "output_type": "stream",
     "text": [
      "Requirement already satisfied: gensim in c:\\users\\rober\\anaconda3\\lib\\site-packages (4.2.0)\n",
      "Requirement already satisfied: scipy>=0.18.1 in c:\\users\\rober\\anaconda3\\lib\\site-packages (from gensim) (1.7.1)\n",
      "Requirement already satisfied: numpy>=1.17.0 in c:\\users\\rober\\anaconda3\\lib\\site-packages (from gensim) (1.20.3)\n",
      "Requirement already satisfied: Cython==0.29.28 in c:\\users\\rober\\anaconda3\\lib\\site-packages (from gensim) (0.29.28)\n",
      "Requirement already satisfied: smart-open>=1.8.1 in c:\\users\\rober\\anaconda3\\lib\\site-packages (from gensim) (6.0.0)\n",
      "Note: you may need to restart the kernel to use updated packages.\n"
     ]
    }
   ],
   "source": [
    "pip install gensim\n"
   ]
  },
  {
   "cell_type": "code",
   "execution_count": 2,
   "id": "c8aa1013",
   "metadata": {},
   "outputs": [
    {
     "name": "stderr",
     "output_type": "stream",
     "text": [
      "[nltk_data] Downloading package wordnet to\n",
      "[nltk_data]     C:\\Users\\rober\\AppData\\Roaming\\nltk_data...\n",
      "[nltk_data]   Package wordnet is already up-to-date!\n"
     ]
    },
    {
     "data": {
      "text/plain": [
       "True"
      ]
     },
     "execution_count": 2,
     "metadata": {},
     "output_type": "execute_result"
    }
   ],
   "source": [
    "import pprint\n",
    "import pandas as pd\n",
    "import gensim\n",
    "import re\n",
    "from gensim.utils import simple_preprocess\n",
    "from gensim.parsing.preprocessing import STOPWORDS\n",
    "from nltk.stem import WordNetLemmatizer, SnowballStemmer\n",
    "from nltk.stem.porter import *\n",
    "from nltk.stem import *\n",
    "import numpy as np\n",
    "np.random.seed(2018)\n",
    "import nltk\n",
    "import nltk.stem as stemmer\n",
    "stemmer = PorterStemmer()\n",
    "nltk.download('wordnet')"
   ]
  },
  {
   "cell_type": "markdown",
   "id": "0c204e8a",
   "metadata": {},
   "source": [
    "se carga el texto y se genera un dataframe de los titulos limpios"
   ]
  },
  {
   "cell_type": "code",
   "execution_count": 3,
   "id": "569b7506",
   "metadata": {},
   "outputs": [],
   "source": [
    "File = pd.ExcelFile('DatosWoS.xlsx')\n",
    "df=File.parse('Sheet1')\n",
    "\n"
   ]
  },
  {
   "cell_type": "code",
   "execution_count": 4,
   "id": "dc628ac8",
   "metadata": {},
   "outputs": [
    {
     "data": {
      "text/html": [
       "<div>\n",
       "<style scoped>\n",
       "    .dataframe tbody tr th:only-of-type {\n",
       "        vertical-align: middle;\n",
       "    }\n",
       "\n",
       "    .dataframe tbody tr th {\n",
       "        vertical-align: top;\n",
       "    }\n",
       "\n",
       "    .dataframe thead th {\n",
       "        text-align: right;\n",
       "    }\n",
       "</style>\n",
       "<table border=\"1\" class=\"dataframe\">\n",
       "  <thead>\n",
       "    <tr style=\"text-align: right;\">\n",
       "      <th></th>\n",
       "      <th>Año</th>\n",
       "      <th>referencias</th>\n",
       "    </tr>\n",
       "  </thead>\n",
       "  <tbody>\n",
       "    <tr>\n",
       "      <th>count</th>\n",
       "      <td>250.000000</td>\n",
       "      <td>250.000000</td>\n",
       "    </tr>\n",
       "    <tr>\n",
       "      <th>mean</th>\n",
       "      <td>2016.424000</td>\n",
       "      <td>25.544000</td>\n",
       "    </tr>\n",
       "    <tr>\n",
       "      <th>std</th>\n",
       "      <td>3.133608</td>\n",
       "      <td>21.261049</td>\n",
       "    </tr>\n",
       "    <tr>\n",
       "      <th>min</th>\n",
       "      <td>2010.000000</td>\n",
       "      <td>0.000000</td>\n",
       "    </tr>\n",
       "    <tr>\n",
       "      <th>25%</th>\n",
       "      <td>2014.000000</td>\n",
       "      <td>11.000000</td>\n",
       "    </tr>\n",
       "    <tr>\n",
       "      <th>50%</th>\n",
       "      <td>2017.000000</td>\n",
       "      <td>18.000000</td>\n",
       "    </tr>\n",
       "    <tr>\n",
       "      <th>75%</th>\n",
       "      <td>2019.000000</td>\n",
       "      <td>36.000000</td>\n",
       "    </tr>\n",
       "    <tr>\n",
       "      <th>max</th>\n",
       "      <td>2022.000000</td>\n",
       "      <td>161.000000</td>\n",
       "    </tr>\n",
       "  </tbody>\n",
       "</table>\n",
       "</div>"
      ],
      "text/plain": [
       "               Año  referencias\n",
       "count   250.000000   250.000000\n",
       "mean   2016.424000    25.544000\n",
       "std       3.133608    21.261049\n",
       "min    2010.000000     0.000000\n",
       "25%    2014.000000    11.000000\n",
       "50%    2017.000000    18.000000\n",
       "75%    2019.000000    36.000000\n",
       "max    2022.000000   161.000000"
      ]
     },
     "execution_count": 4,
     "metadata": {},
     "output_type": "execute_result"
    }
   ],
   "source": [
    "df.describe()"
   ]
  },
  {
   "cell_type": "code",
   "execution_count": 5,
   "id": "4d2cf661",
   "metadata": {},
   "outputs": [],
   "source": [
    "titles = df[\"Titulo\"]"
   ]
  },
  {
   "cell_type": "code",
   "execution_count": 6,
   "id": "92c690b9",
   "metadata": {},
   "outputs": [],
   "source": [
    "text_corpus = titles.values.tolist()\n"
   ]
  },
  {
   "cell_type": "code",
   "execution_count": 7,
   "id": "ae8fe5e3",
   "metadata": {
    "scrolled": true
   },
   "outputs": [],
   "source": [
    "for i in range(len(text_corpus)):\n",
    "    text_corpus[i] = str(text_corpus[i])\n",
    "    text_corpus[i] = re.sub(\"[!,*)@#%(&$_?.^:-]'\", '', text_corpus[i])\n",
    "    text_corpus[i] = text_corpus[i].replace('\"','')\n",
    "    text_corpus[i] = text_corpus[i].lower()\n",
    "    text_corpus[i] = text_corpus[i].replace(\"movie\",\"\")\n",
    "    text_corpus[i] = text_corpus[i].replace(\"movies\",\"\")\n"
   ]
  },
  {
   "cell_type": "markdown",
   "id": "1e44b6ac",
   "metadata": {},
   "source": [
    "se genera un dataframe de index y luego se fusiona con el de titulos, luego se tockeniza el texto"
   ]
  },
  {
   "cell_type": "code",
   "execution_count": 8,
   "id": "8a9abb35",
   "metadata": {},
   "outputs": [],
   "source": [
    "indexs = []\n",
    "for i in range(len(text_corpus)):\n",
    "    indexs.append(i)"
   ]
  },
  {
   "cell_type": "code",
   "execution_count": 9,
   "id": "e95a03fe",
   "metadata": {},
   "outputs": [],
   "source": [
    "df2 = pd.DataFrame(list(zip(text_corpus, indexs)),\n",
    "               columns =['Titulo', 'index'])"
   ]
  },
  {
   "cell_type": "code",
   "execution_count": 10,
   "id": "a27e89de",
   "metadata": {},
   "outputs": [],
   "source": [
    "def lemmatize_stemming(text):\n",
    "    return stemmer.stem(WordNetLemmatizer().lemmatize(text, pos='v'))\n",
    "def preprocess(text):\n",
    "    result = []\n",
    "    for token in gensim.utils.simple_preprocess(text):\n",
    "        if token not in gensim.parsing.preprocessing.STOPWORDS and len(token) > 3:\n",
    "            result.append(lemmatize_stemming(token))\n",
    "    return result"
   ]
  },
  {
   "cell_type": "code",
   "execution_count": 11,
   "id": "efadd3c9",
   "metadata": {},
   "outputs": [
    {
     "name": "stdout",
     "output_type": "stream",
     "text": [
      "original document: \n",
      "['', 'recommendation', 'system', 'based', 'on', '', 'swarm']\n",
      "\n",
      "\n",
      " tokenized and lemmatized document: \n",
      "['recommend', 'base', 'swarm']\n"
     ]
    }
   ],
   "source": [
    "documents = df2\n",
    "doc_sample = documents[documents['index'] == 0].values[0][0]\n",
    "print('original document: ')\n",
    "words = []\n",
    "for word in doc_sample.split(' '):\n",
    "    words.append(word)\n",
    "print(words)\n",
    "print('\\n\\n tokenized and lemmatized document: ')\n",
    "print(preprocess(doc_sample))"
   ]
  },
  {
   "cell_type": "code",
   "execution_count": 12,
   "id": "151dea92",
   "metadata": {},
   "outputs": [
    {
     "data": {
      "text/plain": [
       "0                           [recommend, base, swarm]\n",
       "1    [dynam, effect, rat, revenu, viewer, satisfact]\n",
       "2                                         [descript]\n",
       "3                     [success, predict, data, mine]\n",
       "4                                                 []\n",
       "5                [exploit, charact, network, summar]\n",
       "6     [tradit, cultur, chines, case, shoot, huizhou]\n",
       "7                    [feng, xiaogang, economi, oper]\n",
       "8                [summar, charact, network, analysi]\n",
       "9    [attribut, trailer, constitut, purchas, intent]\n",
       "Name: Titulo, dtype: object"
      ]
     },
     "execution_count": 12,
     "metadata": {},
     "output_type": "execute_result"
    }
   ],
   "source": [
    "processed_docs = documents['Titulo'].map(preprocess)\n",
    "processed_docs[:10]"
   ]
  },
  {
   "cell_type": "markdown",
   "id": "421e02ba",
   "metadata": {},
   "source": [
    "se genera el diccionario con el bag of words que se obtuvo de la tockenizacion"
   ]
  },
  {
   "cell_type": "code",
   "execution_count": 13,
   "id": "fc329500",
   "metadata": {},
   "outputs": [
    {
     "name": "stdout",
     "output_type": "stream",
     "text": [
      "0 base\n",
      "1 recommend\n",
      "2 swarm\n",
      "3 dynam\n",
      "4 effect\n",
      "5 rat\n",
      "6 revenu\n",
      "7 satisfact\n",
      "8 viewer\n",
      "9 descript\n",
      "10 data\n"
     ]
    }
   ],
   "source": [
    "dictionary = gensim.corpora.Dictionary(processed_docs)\n",
    "count = 0\n",
    "for k, v in dictionary.iteritems():\n",
    "    print(k, v)\n",
    "    count += 1\n",
    "    if count > 10:\n",
    "        break"
   ]
  },
  {
   "cell_type": "code",
   "execution_count": 14,
   "id": "a2180f0b",
   "metadata": {},
   "outputs": [],
   "source": [
    "dictionary.filter_extremes(no_below=15, no_above=0.5, keep_n=100000)\n"
   ]
  },
  {
   "cell_type": "markdown",
   "id": "dc44b1b3",
   "metadata": {},
   "source": [
    "se prepara y entrena la red lda testeando con el titulo nº52"
   ]
  },
  {
   "cell_type": "code",
   "execution_count": 15,
   "id": "dafa1320",
   "metadata": {},
   "outputs": [
    {
     "data": {
      "text/plain": [
       "[]"
      ]
     },
     "execution_count": 15,
     "metadata": {},
     "output_type": "execute_result"
    }
   ],
   "source": [
    "bow_corpus = [dictionary.doc2bow(doc) for doc in processed_docs]\n",
    "bow_corpus[52]"
   ]
  },
  {
   "cell_type": "code",
   "execution_count": 16,
   "id": "1bbe6d3e",
   "metadata": {},
   "outputs": [],
   "source": [
    "bow_doc_52 = bow_corpus[52]\n",
    "for i in range(len(bow_doc_52)):\n",
    "    print(\"Word {} (\\\"{}\\\") appears {} time.\".format(bow_doc_52[i][0], \n",
    "                                               dictionary[bow_doc_52[i][0]], \n",
    "bow_doc_52[i][1]))"
   ]
  },
  {
   "cell_type": "code",
   "execution_count": 17,
   "id": "e9b4f505",
   "metadata": {},
   "outputs": [
    {
     "name": "stdout",
     "output_type": "stream",
     "text": [
      "[(0, 0.6751532289867246), (1, 0.7376775158487614)]\n"
     ]
    }
   ],
   "source": [
    "from gensim import corpora, models\n",
    "tfidf = models.TfidfModel(bow_corpus)\n",
    "corpus_tfidf = tfidf[bow_corpus]\n",
    "from pprint import pprint\n",
    "for doc in corpus_tfidf:\n",
    "    pprint(doc)\n",
    "    break"
   ]
  },
  {
   "cell_type": "code",
   "execution_count": 18,
   "id": "2d5d22f3",
   "metadata": {},
   "outputs": [],
   "source": [
    "lda_model = gensim.models.LdaMulticore(bow_corpus, num_topics=10, id2word=dictionary, passes=2, workers=2)"
   ]
  },
  {
   "cell_type": "code",
   "execution_count": 19,
   "id": "d5a1631d",
   "metadata": {},
   "outputs": [
    {
     "name": "stdout",
     "output_type": "stream",
     "text": [
      "Topic: 0 \n",
      "Words: 0.741*\"recommend\" + 0.246*\"base\" + 0.004*\"analysi\" + 0.004*\"predict\" + 0.004*\"learn\"\n",
      "Topic: 1 \n",
      "Words: 0.904*\"base\" + 0.037*\"analysi\" + 0.027*\"recommend\" + 0.027*\"predict\" + 0.006*\"learn\"\n",
      "Topic: 2 \n",
      "Words: 0.864*\"analysi\" + 0.100*\"recommend\" + 0.027*\"base\" + 0.005*\"predict\" + 0.005*\"learn\"\n",
      "Topic: 3 \n",
      "Words: 0.431*\"predict\" + 0.276*\"base\" + 0.276*\"learn\" + 0.009*\"analysi\" + 0.009*\"recommend\"\n",
      "Topic: 4 \n",
      "Words: 0.458*\"learn\" + 0.260*\"predict\" + 0.157*\"recommend\" + 0.110*\"base\" + 0.015*\"analysi\"\n",
      "Topic: 5 \n",
      "Words: 0.460*\"recommend\" + 0.410*\"base\" + 0.114*\"predict\" + 0.008*\"analysi\" + 0.008*\"learn\"\n",
      "Topic: 6 \n",
      "Words: 0.473*\"analysi\" + 0.189*\"base\" + 0.132*\"recommend\" + 0.132*\"predict\" + 0.075*\"learn\"\n",
      "Topic: 7 \n",
      "Words: 0.519*\"base\" + 0.359*\"recommend\" + 0.071*\"predict\" + 0.041*\"learn\" + 0.010*\"analysi\"\n",
      "Topic: 8 \n",
      "Words: 0.605*\"learn\" + 0.167*\"base\" + 0.163*\"predict\" + 0.060*\"recommend\" + 0.005*\"analysi\"\n",
      "Topic: 9 \n",
      "Words: 0.701*\"predict\" + 0.203*\"analysi\" + 0.075*\"recommend\" + 0.010*\"base\" + 0.010*\"learn\"\n"
     ]
    }
   ],
   "source": [
    "for idx, topic in lda_model.print_topics(-1):\n",
    "    print('Topic: {} \\nWords: {}'.format(idx, topic))"
   ]
  },
  {
   "cell_type": "code",
   "execution_count": 20,
   "id": "5f58b6ab",
   "metadata": {},
   "outputs": [
    {
     "name": "stdout",
     "output_type": "stream",
     "text": [
      "Topic: 0 Word: 0.882*\"learn\" + 0.057*\"recommend\" + 0.046*\"predict\" + 0.007*\"analysi\" + 0.007*\"base\"\n",
      "Topic: 1 Word: 0.698*\"base\" + 0.245*\"recommend\" + 0.025*\"predict\" + 0.016*\"analysi\" + 0.016*\"learn\"\n",
      "Topic: 2 Word: 0.463*\"analysi\" + 0.206*\"learn\" + 0.203*\"predict\" + 0.064*\"recommend\" + 0.064*\"base\"\n",
      "Topic: 3 Word: 0.517*\"analysi\" + 0.244*\"recommend\" + 0.080*\"base\" + 0.080*\"predict\" + 0.080*\"learn\"\n",
      "Topic: 4 Word: 0.861*\"recommend\" + 0.074*\"base\" + 0.029*\"analysi\" + 0.028*\"learn\" + 0.007*\"predict\"\n",
      "Topic: 5 Word: 0.665*\"predict\" + 0.176*\"recommend\" + 0.105*\"learn\" + 0.040*\"base\" + 0.013*\"analysi\"\n",
      "Topic: 6 Word: 0.797*\"predict\" + 0.151*\"recommend\" + 0.033*\"learn\" + 0.009*\"analysi\" + 0.009*\"base\"\n",
      "Topic: 7 Word: 0.428*\"analysi\" + 0.191*\"predict\" + 0.178*\"learn\" + 0.136*\"recommend\" + 0.066*\"base\"\n",
      "Topic: 8 Word: 0.508*\"analysi\" + 0.123*\"recommend\" + 0.123*\"base\" + 0.123*\"predict\" + 0.123*\"learn\"\n",
      "Topic: 9 Word: 0.978*\"analysi\" + 0.006*\"recommend\" + 0.006*\"base\" + 0.005*\"learn\" + 0.005*\"predict\"\n"
     ]
    }
   ],
   "source": [
    "lda_model_tfidf = gensim.models.LdaMulticore(corpus_tfidf, num_topics=10, id2word=dictionary, passes=2, workers=4)\n",
    "for idx, topic in lda_model_tfidf.print_topics(-1):\n",
    "    print('Topic: {} Word: {}'.format(idx, topic))"
   ]
  },
  {
   "cell_type": "code",
   "execution_count": 21,
   "id": "28af623d",
   "metadata": {},
   "outputs": [
    {
     "data": {
      "text/plain": [
       "['novel', 'method', 'measur', 'reliabl', 'bollywood', 'rat']"
      ]
     },
     "execution_count": 21,
     "metadata": {},
     "output_type": "execute_result"
    }
   ],
   "source": [
    "processed_docs[52]"
   ]
  },
  {
   "cell_type": "code",
   "execution_count": 22,
   "id": "a9fc8b49",
   "metadata": {},
   "outputs": [
    {
     "name": "stdout",
     "output_type": "stream",
     "text": [
      "\n",
      "Score: 0.10000000149011612\t \n",
      "Topic: 0.741*\"recommend\" + 0.246*\"base\" + 0.004*\"analysi\" + 0.004*\"predict\" + 0.004*\"learn\"\n",
      "\n",
      "Score: 0.10000000149011612\t \n",
      "Topic: 0.904*\"base\" + 0.037*\"analysi\" + 0.027*\"recommend\" + 0.027*\"predict\" + 0.006*\"learn\"\n",
      "\n",
      "Score: 0.10000000149011612\t \n",
      "Topic: 0.864*\"analysi\" + 0.100*\"recommend\" + 0.027*\"base\" + 0.005*\"predict\" + 0.005*\"learn\"\n",
      "\n",
      "Score: 0.10000000149011612\t \n",
      "Topic: 0.431*\"predict\" + 0.276*\"base\" + 0.276*\"learn\" + 0.009*\"analysi\" + 0.009*\"recommend\"\n",
      "\n",
      "Score: 0.10000000149011612\t \n",
      "Topic: 0.458*\"learn\" + 0.260*\"predict\" + 0.157*\"recommend\" + 0.110*\"base\" + 0.015*\"analysi\"\n",
      "\n",
      "Score: 0.10000000149011612\t \n",
      "Topic: 0.460*\"recommend\" + 0.410*\"base\" + 0.114*\"predict\" + 0.008*\"analysi\" + 0.008*\"learn\"\n",
      "\n",
      "Score: 0.10000000149011612\t \n",
      "Topic: 0.473*\"analysi\" + 0.189*\"base\" + 0.132*\"recommend\" + 0.132*\"predict\" + 0.075*\"learn\"\n",
      "\n",
      "Score: 0.10000000149011612\t \n",
      "Topic: 0.519*\"base\" + 0.359*\"recommend\" + 0.071*\"predict\" + 0.041*\"learn\" + 0.010*\"analysi\"\n",
      "\n",
      "Score: 0.10000000149011612\t \n",
      "Topic: 0.605*\"learn\" + 0.167*\"base\" + 0.163*\"predict\" + 0.060*\"recommend\" + 0.005*\"analysi\"\n",
      "\n",
      "Score: 0.10000000149011612\t \n",
      "Topic: 0.701*\"predict\" + 0.203*\"analysi\" + 0.075*\"recommend\" + 0.010*\"base\" + 0.010*\"learn\"\n"
     ]
    }
   ],
   "source": [
    "for index, score in sorted(lda_model[bow_corpus[52]], key=lambda tup: -1*tup[1]):\n",
    "    print(\"\\nScore: {}\\t \\nTopic: {}\".format(score, lda_model.print_topic(index, 10)))"
   ]
  },
  {
   "cell_type": "code",
   "execution_count": 23,
   "id": "ae885d4e",
   "metadata": {},
   "outputs": [
    {
     "name": "stdout",
     "output_type": "stream",
     "text": [
      "\n",
      "Score: 0.10000000149011612\t \n",
      "Topic: 0.882*\"learn\" + 0.057*\"recommend\" + 0.046*\"predict\" + 0.007*\"analysi\" + 0.007*\"base\"\n",
      "\n",
      "Score: 0.10000000149011612\t \n",
      "Topic: 0.698*\"base\" + 0.245*\"recommend\" + 0.025*\"predict\" + 0.016*\"analysi\" + 0.016*\"learn\"\n",
      "\n",
      "Score: 0.10000000149011612\t \n",
      "Topic: 0.463*\"analysi\" + 0.206*\"learn\" + 0.203*\"predict\" + 0.064*\"recommend\" + 0.064*\"base\"\n",
      "\n",
      "Score: 0.10000000149011612\t \n",
      "Topic: 0.517*\"analysi\" + 0.244*\"recommend\" + 0.080*\"base\" + 0.080*\"predict\" + 0.080*\"learn\"\n",
      "\n",
      "Score: 0.10000000149011612\t \n",
      "Topic: 0.861*\"recommend\" + 0.074*\"base\" + 0.029*\"analysi\" + 0.028*\"learn\" + 0.007*\"predict\"\n",
      "\n",
      "Score: 0.10000000149011612\t \n",
      "Topic: 0.665*\"predict\" + 0.176*\"recommend\" + 0.105*\"learn\" + 0.040*\"base\" + 0.013*\"analysi\"\n",
      "\n",
      "Score: 0.10000000149011612\t \n",
      "Topic: 0.797*\"predict\" + 0.151*\"recommend\" + 0.033*\"learn\" + 0.009*\"analysi\" + 0.009*\"base\"\n",
      "\n",
      "Score: 0.10000000149011612\t \n",
      "Topic: 0.428*\"analysi\" + 0.191*\"predict\" + 0.178*\"learn\" + 0.136*\"recommend\" + 0.066*\"base\"\n",
      "\n",
      "Score: 0.10000000149011612\t \n",
      "Topic: 0.508*\"analysi\" + 0.123*\"recommend\" + 0.123*\"base\" + 0.123*\"predict\" + 0.123*\"learn\"\n",
      "\n",
      "Score: 0.10000000149011612\t \n",
      "Topic: 0.978*\"analysi\" + 0.006*\"recommend\" + 0.006*\"base\" + 0.005*\"learn\" + 0.005*\"predict\"\n"
     ]
    }
   ],
   "source": [
    "for index, score in sorted(lda_model_tfidf[bow_corpus[52]], key=lambda tup: -1*tup[1]):\n",
    "    print(\"\\nScore: {}\\t \\nTopic: {}\".format(score, lda_model_tfidf.print_topic(index, 10)))"
   ]
  },
  {
   "cell_type": "markdown",
   "id": "9c5e5a74",
   "metadata": {},
   "source": [
    "se realiza un test con un titulo no visto por la red lda"
   ]
  },
  {
   "cell_type": "code",
   "execution_count": 24,
   "id": "45854baf",
   "metadata": {},
   "outputs": [
    {
     "name": "stdout",
     "output_type": "stream",
     "text": [
      "Score: 0.5499798655509949\t Topic: 0.864*\"analysi\" + 0.100*\"recommend\" + 0.027*\"base\" + 0.005*\"predict\" + 0.005*\"learn\"\n",
      "Score: 0.050015389919281006\t Topic: 0.473*\"analysi\" + 0.189*\"base\" + 0.132*\"recommend\" + 0.132*\"predict\" + 0.075*\"learn\"\n",
      "Score: 0.05000433698296547\t Topic: 0.701*\"predict\" + 0.203*\"analysi\" + 0.075*\"recommend\" + 0.010*\"base\" + 0.010*\"learn\"\n",
      "Score: 0.050000354647636414\t Topic: 0.904*\"base\" + 0.037*\"analysi\" + 0.027*\"recommend\" + 0.027*\"predict\" + 0.006*\"learn\"\n",
      "Score: 0.05000000819563866\t Topic: 0.741*\"recommend\" + 0.246*\"base\" + 0.004*\"analysi\" + 0.004*\"predict\" + 0.004*\"learn\"\n",
      "Score: 0.05000000819563866\t Topic: 0.431*\"predict\" + 0.276*\"base\" + 0.276*\"learn\" + 0.009*\"analysi\" + 0.009*\"recommend\"\n",
      "Score: 0.05000000819563866\t Topic: 0.458*\"learn\" + 0.260*\"predict\" + 0.157*\"recommend\" + 0.110*\"base\" + 0.015*\"analysi\"\n",
      "Score: 0.05000000819563866\t Topic: 0.460*\"recommend\" + 0.410*\"base\" + 0.114*\"predict\" + 0.008*\"analysi\" + 0.008*\"learn\"\n",
      "Score: 0.05000000819563866\t Topic: 0.519*\"base\" + 0.359*\"recommend\" + 0.071*\"predict\" + 0.041*\"learn\" + 0.010*\"analysi\"\n",
      "Score: 0.05000000819563866\t Topic: 0.605*\"learn\" + 0.167*\"base\" + 0.163*\"predict\" + 0.060*\"recommend\" + 0.005*\"analysi\"\n"
     ]
    }
   ],
   "source": [
    "unseen_document = 'A theoretical analysis of time dependent fragment momenta in indirect photofragmentation'\n",
    "bow_vector = dictionary.doc2bow(preprocess(unseen_document))\n",
    "for index, score in sorted(lda_model[bow_vector], key=lambda tup: -1*tup[1]):\n",
    "    print(\"Score: {}\\t Topic: {}\".format(score, lda_model.print_topic(index, 5)))"
   ]
  },
  {
   "cell_type": "code",
   "execution_count": null,
   "id": "9489653d",
   "metadata": {},
   "outputs": [],
   "source": []
  }
 ],
 "metadata": {
  "kernelspec": {
   "display_name": "Python 3 (ipykernel)",
   "language": "python",
   "name": "python3"
  },
  "language_info": {
   "codemirror_mode": {
    "name": "ipython",
    "version": 3
   },
   "file_extension": ".py",
   "mimetype": "text/x-python",
   "name": "python",
   "nbconvert_exporter": "python",
   "pygments_lexer": "ipython3",
   "version": "3.9.7"
  }
 },
 "nbformat": 4,
 "nbformat_minor": 5
}
